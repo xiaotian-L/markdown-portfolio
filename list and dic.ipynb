{
 "cells": [
  {
   "cell_type": "markdown",
   "metadata": {},
   "source": [
    "# 列表list\n",
    "1. 什么是列表\n",
    " - 列表用中括号[ ]把里面的各种数据框起来\n",
    " - 列表是有序的序列\n",
    " - 列表里面的每一个数据叫作“元素”，每个元素之间都要用英文逗号隔开。\n"
   ]
  },
  {
   "cell_type": "code",
   "execution_count": 7,
   "metadata": {},
   "outputs": [
    {
     "name": "stdout",
     "output_type": "stream",
     "text": [
      "[5, 6, 7, 8, 9]\n"
     ]
    }
   ],
   "source": [
    "list1 = [5,6,7,8,9]\n",
    "print(list1)"
   ]
  },
  {
   "cell_type": "markdown",
   "metadata": {},
   "source": []
  },
  {
   "cell_type": "markdown",
   "metadata": {},
   "source": [
    "2. 列表元素提取"
   ]
  },
  {
   "cell_type": "code",
   "execution_count": 18,
   "metadata": {},
   "outputs": [
    {
     "name": "stdout",
     "output_type": "stream",
     "text": [
      "小红\n",
      "小芳\n"
     ]
    }
   ],
   "source": [
    "students = ['小明','小红','小刚','小美']\n",
    "print(students[1])  \n",
    "\n",
    "students1 = [['小明','小红','小刚','小美'],['小强','小兰','小伟','小芳']]\n",
    "print(students1[1][3])  #提取嵌套列表小芳"
   ]
  },
  {
   "cell_type": "markdown",
   "metadata": {},
   "source": [
    "\n",
    "3. 添加\n",
    " - append在列表末尾添加一个元素\n",
    " - append只能添加一个元素，并且可以嵌套\n",
    "\n",
    "   "
   ]
  },
  {
   "cell_type": "code",
   "execution_count": 1,
   "metadata": {},
   "outputs": [
    {
     "name": "stdout",
     "output_type": "stream",
     "text": [
      "[1, 2, 3]\n",
      "[1, 2, 3, [4, 5]]\n"
     ]
    }
   ],
   "source": [
    "list2 = [1,2]\n",
    "list2.append(3)\n",
    "print(list2)\n",
    "\n",
    "list2.append([4,5])\n",
    "print(list2)"
   ]
  },
  {
   "cell_type": "markdown",
   "metadata": {},
   "source": []
  },
  {
   "cell_type": "markdown",
   "metadata": {},
   "source": [
    "4. 删除\n",
    " - del可以通过索引删除元素，也可以切片删除\n",
    " - del也可以直接删除整个列表\n",
    " "
   ]
  },
  {
   "cell_type": "code",
   "execution_count": 13,
   "metadata": {},
   "outputs": [
    {
     "name": "stdout",
     "output_type": "stream",
     "text": [
      "['小明', '小刚', '小美', '小李', '小天']\n",
      "['小明', '小刚', '小美']\n"
     ]
    },
    {
     "ename": "NameError",
     "evalue": "name 'seudents' is not defined",
     "output_type": "error",
     "traceback": [
      "\u001b[1;31m---------------------------------------------------------------------------\u001b[0m",
      "\u001b[1;31mNameError\u001b[0m                                 Traceback (most recent call last)",
      "\u001b[1;32m<ipython-input-13-e455d8341fbe>\u001b[0m in \u001b[0;36m<module>\u001b[1;34m\u001b[0m\n\u001b[0;32m      6\u001b[0m \u001b[0mprint\u001b[0m\u001b[1;33m(\u001b[0m\u001b[0mstudents\u001b[0m\u001b[1;33m)\u001b[0m\u001b[1;33m\u001b[0m\u001b[1;33m\u001b[0m\u001b[0m\n\u001b[0;32m      7\u001b[0m \u001b[1;33m\u001b[0m\u001b[0m\n\u001b[1;32m----> 8\u001b[1;33m \u001b[1;32mdel\u001b[0m \u001b[0mseudents\u001b[0m\u001b[1;33m\u001b[0m\u001b[1;33m\u001b[0m\u001b[0m\n\u001b[0m\u001b[0;32m      9\u001b[0m \u001b[0mprint\u001b[0m \u001b[1;33m(\u001b[0m\u001b[0mstudents\u001b[0m\u001b[1;33m)\u001b[0m\u001b[1;33m\u001b[0m\u001b[1;33m\u001b[0m\u001b[0m\n\u001b[0;32m     10\u001b[0m \u001b[1;33m\u001b[0m\u001b[0m\n",
      "\u001b[1;31mNameError\u001b[0m: name 'seudents' is not defined"
     ]
    }
   ],
   "source": [
    "students = ['小明','小红','小刚','小美','小李','小天']\n",
    "del students[1]\n",
    "print(students)\n",
    "\n",
    "del students[3:]\n",
    "print(students)\n",
    "\n",
    "del seudents\n",
    "print (students)\n",
    "\n"
   ]
  },
  {
   "cell_type": "markdown",
   "metadata": {},
   "source": []
  },
  {
   "cell_type": "markdown",
   "metadata": {},
   "source": [
    "# 字典\n",
    "1. 什么是字典\n",
    " - 字典的外层是大括号{ }\n",
    " - 字典是无序的\n",
    " - 字典的元素是由一个个键值对构成的，用英文冒号连接。如'小明':95，其中我们把'小明'叫键（key），95叫值(value)。\n",
    " "
   ]
  },
  {
   "cell_type": "code",
   "execution_count": 14,
   "metadata": {},
   "outputs": [
    {
     "name": "stdout",
     "output_type": "stream",
     "text": [
      "{'小明': 95, '小红': 90, '小刚': 90}\n"
     ]
    }
   ],
   "source": [
    "scores = {'小明':95,'小红':90,'小刚':90}\n",
    "print(scores)"
   ]
  },
  {
   "cell_type": "markdown",
   "metadata": {},
   "source": [
    "2. 提取字典里的值\n",
    " - 提取值，需要用键\n",
    " - 提取用[]"
   ]
  },
  {
   "cell_type": "code",
   "execution_count": 19,
   "metadata": {},
   "outputs": [
    {
     "name": "stdout",
     "output_type": "stream",
     "text": [
      "90\n",
      "100\n"
     ]
    }
   ],
   "source": [
    "scores = {'小明':95,'小红':90,'小刚':90}\n",
    "print(scores['小红'])\n",
    "\n",
    "scores = {\n",
    "    '第一组':{'小明':95,'小红':90,'小刚':100,'小美':85},\n",
    "    '第二组':{'小强':99,'小兰':89,'小伟':93,'小芳':88}\n",
    "    }\n",
    "print(scores['第一组']['小刚'])   #提取嵌套字典里小刚的成绩"
   ]
  },
  {
   "cell_type": "markdown",
   "metadata": {},
   "source": [
    "3. 字典的删除,添加,修改"
   ]
  },
  {
   "cell_type": "code",
   "execution_count": 16,
   "metadata": {},
   "outputs": [
    {
     "name": "stdout",
     "output_type": "stream",
     "text": [
      "{'小明': 95, '小红': 90, '小刚': 92, '小美': 85}\n"
     ]
    }
   ],
   "source": [
    "scores = {'小明':95,'小红':90,'小刚':90}\n",
    "del scores['小刚']   #删除\n",
    "scores['小刚'] = 92  #修改\n",
    "scores['小美'] = 85  #添加\n",
    "print(scores)"
   ]
  },
  {
   "cell_type": "code",
   "execution_count": null,
   "metadata": {},
   "outputs": [],
   "source": []
  }
 ],
 "metadata": {
  "kernelspec": {
   "display_name": "Python 3",
   "language": "python",
   "name": "python3"
  },
  "language_info": {
   "codemirror_mode": {
    "name": "ipython",
    "version": 3
   },
   "file_extension": ".py",
   "mimetype": "text/x-python",
   "name": "python",
   "nbconvert_exporter": "python",
   "pygments_lexer": "ipython3",
   "version": "3.8.3"
  }
 },
 "nbformat": 4,
 "nbformat_minor": 4
}
